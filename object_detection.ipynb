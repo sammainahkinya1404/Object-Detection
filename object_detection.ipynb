{
  "nbformat": 4,
  "nbformat_minor": 0,
  "metadata": {
    "colab": {
      "provenance": [],
      "collapsed_sections": [],
      "authorship_tag": "ABX9TyOigJ4rekmcaxoHkfaiJx+t",
      "include_colab_link": true
    },
    "kernelspec": {
      "name": "python3",
      "display_name": "Python 3"
    },
    "language_info": {
      "name": "python"
    }
  },
  "cells": [
    {
      "cell_type": "markdown",
      "metadata": {
        "id": "view-in-github",
        "colab_type": "text"
      },
      "source": [
        "<a href=\"https://colab.research.google.com/github/sammainahkinya1404/Object-Detection/blob/main/object_detection.ipynb\" target=\"_parent\"><img src=\"https://colab.research.google.com/assets/colab-badge.svg\" alt=\"Open In Colab\"/></a>"
      ]
    },
    {
      "cell_type": "code",
      "execution_count": 10,
      "metadata": {
        "id": "0ZfSLBsl2yKv"
      },
      "outputs": [],
      "source": [
        "# image detection\n",
        "# Loading Imports\n",
        "import matplotlib.pyplot as plt\n",
        "import tensorflow as tf\n",
        "\n",
        "from tensorflow.keras import datasets, layers,models\n",
        "\n"
      ]
    },
    {
      "cell_type": "code",
      "source": [
        "# Load datasets\n",
        "(train_images,train_labels),(test_images,test_labels)=datasets.cifar10.load_data()\n"
      ],
      "metadata": {
        "id": "RStF8IRr4aUv"
      },
      "execution_count": 24,
      "outputs": []
    },
    {
      "cell_type": "code",
      "source": [
        "# Normalizing pixels to be btwn 0 and 1\n",
        "train_images,test_images=train_images/255.0,test_images/255.0"
      ],
      "metadata": {
        "id": "ZHk7n9hL5ovA"
      },
      "execution_count": 25,
      "outputs": []
    },
    {
      "cell_type": "code",
      "source": [
        "# Class Names\n",
        "class_names=['airplane', 'automobile', 'bird', 'cat', 'deer',\n",
        "               'dog', 'frog', 'horse', 'ship', 'truck']"
      ],
      "metadata": {
        "id": "rtjQAzN76C0p"
      },
      "execution_count": 26,
      "outputs": []
    },
    {
      "cell_type": "code",
      "source": [
        "# Visualizing images\n",
        "IMG_INDEX =8  # change this to look at other images\n",
        "\n",
        "plt.imshow(train_images[IMG_INDEX] ,cmap=plt.cm.binary)\n",
        "plt.xlabel(class_names[train_labels[IMG_INDEX][0]])\n",
        "plt.show()"
      ],
      "metadata": {
        "colab": {
          "base_uri": "https://localhost:8080/",
          "height": 280
        },
        "id": "1_a3nFUX6QdY",
        "outputId": "aa27c58d-7e25-468a-c802-868207a6172e"
      },
      "execution_count": 27,
      "outputs": [
        {
          "output_type": "display_data",
          "data": {
            "text/plain": [
              "<Figure size 432x288 with 1 Axes>"
            ],
            "image/png": "[encoded data removed]"
          },
          "metadata": {
            "needs_background": "light"
          }
        }
      ]
    },
    {
      "cell_type": "code",
      "source": [
        "# CNN Architecture with only Conv2D, and MaxPooling2D()\n",
        "model = models.Sequential()\n",
        "model.add(layers.Conv2D(32, (3, 3), activation='relu', input_shape=(32, 32, 3)))\n",
        "model.add(layers.MaxPooling2D((2, 2)))\n",
        "model.add(layers.Conv2D(64, (3, 3), activation='relu'))\n",
        "model.add(layers.MaxPooling2D((2, 2)))\n",
        "model.add(layers.Conv2D(64, (3, 3), activation='relu'))"
      ],
      "metadata": {
        "id": "EVHltcEl8Yme"
      },
      "execution_count": 28,
      "outputs": []
    },
    {
      "cell_type": "code",
      "source": [
        "# Model summary\n",
        "model.summary()"
      ],
      "metadata": {
        "colab": {
          "base_uri": "https://localhost:8080/"
        },
        "id": "DzLHB2TW9TZP",
        "outputId": "b990a9fc-ad5f-481e-c53d-d8b5edd59a02"
      },
      "execution_count": 29,
      "outputs": [
        {
          "output_type": "stream",
          "name": "stdout",
          "text": [
            "Model: \"sequential_1\"\n",
            "_________________________________________________________________\n",
            " Layer (type)                Output Shape              Param #   \n",
            "=================================================================\n",
            " conv2d_3 (Conv2D)           (None, 30, 30, 32)        896       \n",
            "                                                                 \n",
            " max_pooling2d_2 (MaxPooling  (None, 15, 15, 32)       0         \n",
            " 2D)                                                             \n",
            "                                                                 \n",
            " conv2d_4 (Conv2D)           (None, 13, 13, 64)        18496     \n",
            "                                                                 \n",
            " max_pooling2d_3 (MaxPooling  (None, 6, 6, 64)         0         \n",
            " 2D)                                                             \n",
            "                                                                 \n",
            " conv2d_5 (Conv2D)           (None, 4, 4, 64)          36928     \n",
            "                                                                 \n",
            "=================================================================\n",
            "Total params: 56,320\n",
            "Trainable params: 56,320\n",
            "Non-trainable params: 0\n",
            "_________________________________________________________________\n"
          ]
        }
      ]
    },
    {
      "cell_type": "code",
      "source": [
        "# adding Dense layers\n",
        "model.add(layers.Flatten())\n",
        "model.add(layers.Dense(64, activation='relu'))\n",
        "model.add(layers.Dense(10))"
      ],
      "metadata": {
        "id": "aKEI2BIy9vBZ"
      },
      "execution_count": 30,
      "outputs": []
    },
    {
      "cell_type": "code",
      "source": [
        "model.summary()"
      ],
      "metadata": {
        "colab": {
          "base_uri": "https://localhost:8080/"
        },
        "id": "F2up-Rag95gN",
        "outputId": "99cd7262-4428-4326-951b-3f509242cf37"
      },
      "execution_count": 31,
      "outputs": [
        {
          "output_type": "stream",
          "name": "stdout",
          "text": [
            "Model: \"sequential_1\"\n",
            "_________________________________________________________________\n",
            " Layer (type)                Output Shape              Param #   \n",
            "=================================================================\n",
            " conv2d_3 (Conv2D)           (None, 30, 30, 32)        896       \n",
            "                                                                 \n",
            " max_pooling2d_2 (MaxPooling  (None, 15, 15, 32)       0         \n",
            " 2D)                                                             \n",
            "                                                                 \n",
            " conv2d_4 (Conv2D)           (None, 13, 13, 64)        18496     \n",
            "                                                                 \n",
            " max_pooling2d_3 (MaxPooling  (None, 6, 6, 64)         0         \n",
            " 2D)                                                             \n",
            "                                                                 \n",
            " conv2d_5 (Conv2D)           (None, 4, 4, 64)          36928     \n",
            "                                                                 \n",
            " flatten_1 (Flatten)         (None, 1024)              0         \n",
            "                                                                 \n",
            " dense_2 (Dense)             (None, 64)                65600     \n",
            "                                                                 \n",
            " dense_3 (Dense)             (None, 10)                650       \n",
            "                                                                 \n",
            "=================================================================\n",
            "Total params: 122,570\n",
            "Trainable params: 122,570\n",
            "Non-trainable params: 0\n",
            "_________________________________________________________________\n"
          ]
        }
      ]
    },
    {
      "cell_type": "code",
      "source": [
        "# model compiling\n",
        "model.compile(\n",
        "    optimizer='adam',\n",
        "    loss=tf.keras.losses.SparseCategoricalCrossentropy(from_logits=True),\n",
        "    metrics=['accuracy']\n",
        ")"
      ],
      "metadata": {
        "id": "yxpzA5PcArCr"
      },
      "execution_count": 33,
      "outputs": []
    },
    {
      "cell_type": "code",
      "source": [
        "# Model Training\n",
        "Epochs=11\n",
        "history=model.fit(\n",
        "    train_images,train_labels,\n",
        "    epochs=Epochs,\n",
        "    validation_data=(test_images,test_labels))\n",
        "\n"
      ],
      "metadata": {
        "colab": {
          "base_uri": "https://localhost:8080/"
        },
        "id": "OWzmTSLeBRkx",
        "outputId": "ecccc707-fcf9-4f84-be96-7a6472fa28dd"
      },
      "execution_count": 34,
      "outputs": [
        {
          "output_type": "stream",
          "name": "stdout",
          "text": [
            "Epoch 1/11\n",
            "1563/1563 [==============================] - 75s 47ms/step - loss: 1.5374 - accuracy: 0.4392 - val_loss: 1.2664 - val_accuracy: 0.5513\n",
            "Epoch 2/11\n",
            "1563/1563 [==============================] - 74s 47ms/step - loss: 1.1688 - accuracy: 0.5862 - val_loss: 1.1147 - val_accuracy: 0.6072\n",
            "Epoch 3/11\n",
            "1563/1563 [==============================] - 74s 47ms/step - loss: 1.0266 - accuracy: 0.6384 - val_loss: 1.0800 - val_accuracy: 0.6193\n",
            "Epoch 4/11\n",
            "1563/1563 [==============================] - 73s 47ms/step - loss: 0.9344 - accuracy: 0.6730 - val_loss: 1.0095 - val_accuracy: 0.6417\n",
            "Epoch 5/11\n",
            "1563/1563 [==============================] - 72s 46ms/step - loss: 0.8606 - accuracy: 0.6970 - val_loss: 0.9064 - val_accuracy: 0.6842\n",
            "Epoch 6/11\n",
            "1563/1563 [==============================] - 73s 47ms/step - loss: 0.7953 - accuracy: 0.7205 - val_loss: 0.8647 - val_accuracy: 0.7020\n",
            "Epoch 7/11\n",
            "1563/1563 [==============================] - 72s 46ms/step - loss: 0.7484 - accuracy: 0.7399 - val_loss: 0.8846 - val_accuracy: 0.6899\n",
            "Epoch 8/11\n",
            "1563/1563 [==============================] - 72s 46ms/step - loss: 0.7073 - accuracy: 0.7521 - val_loss: 0.8511 - val_accuracy: 0.7165\n",
            "Epoch 9/11\n",
            "1563/1563 [==============================] - 72s 46ms/step - loss: 0.6702 - accuracy: 0.7645 - val_loss: 0.9281 - val_accuracy: 0.6838\n",
            "Epoch 10/11\n",
            "1563/1563 [==============================] - 72s 46ms/step - loss: 0.6434 - accuracy: 0.7745 - val_loss: 0.8667 - val_accuracy: 0.7061\n",
            "Epoch 11/11\n",
            "1563/1563 [==============================] - 72s 46ms/step - loss: 0.6063 - accuracy: 0.7867 - val_loss: 0.8747 - val_accuracy: 0.7044\n"
          ]
        }
      ]
    },
    {
      "cell_type": "code",
      "source": [
        "# Model Evaluation\n",
        "test_loss,test_acc=model.evaluate(test_images,test_labels, verbose=2)\n",
        "print(test_acc)\n"
      ],
      "metadata": {
        "colab": {
          "base_uri": "https://localhost:8080/"
        },
        "id": "CD4UNIMCF35d",
        "outputId": "9748dd81-29bc-4fb3-bf5b-e45891e5b139"
      },
      "execution_count": 35,
      "outputs": [
        {
          "output_type": "stream",
          "name": "stdout",
          "text": [
            "313/313 - 4s - loss: 0.8747 - accuracy: 0.7044 - 4s/epoch - 12ms/step\n",
            "0.7044000029563904\n"
          ]
        }
      ]
    }
  ]
}